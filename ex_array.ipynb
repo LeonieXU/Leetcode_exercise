{
 "cells": [
  {
   "attachments": {},
   "cell_type": "markdown",
   "metadata": {},
   "source": [
    "# Array\n",
    "源码目录：\n",
    "git clone https://github.com/LeonieXU/leetcode-master.git"
   ]
  },
  {
   "attachments": {},
   "cell_type": "markdown",
   "metadata": {},
   "source": [
    "## 1. 二分查询\n",
    "给定一个 n 个元素有序的（升序）整型数组 nums 和一个目标值 target  ，写一个函数搜索 nums 中的 target，如果目标值存在返回下标，否则返回 -1。\n",
    "#### 提示：\n",
    "\n",
    "    1. 你可以假设 nums 中的所有元素是不重复的。\n",
    "\n",
    "    2. n 将在 [1, 10000]之间。\n",
    "\n",
    "    3. nums 的每个元素都将在 [-9999, 9999]之间。"
   ]
  },
  {
   "cell_type": "code",
   "execution_count": null,
   "metadata": {},
   "outputs": [],
   "source": []
  }
 ],
 "metadata": {
  "kernelspec": {
   "display_name": "nlp4web",
   "language": "python",
   "name": "nlp4web"
  },
  "language_info": {
   "name": "python",
   "version": "3.10.8"
  },
  "orig_nbformat": 4
 },
 "nbformat": 4,
 "nbformat_minor": 2
}
